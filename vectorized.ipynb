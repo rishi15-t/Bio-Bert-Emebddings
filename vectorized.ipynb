{
  "nbformat": 4,
  "nbformat_minor": 0,
  "metadata": {
    "colab": {
      "name": "vectorized.ipynb",
      "provenance": [],
      "collapsed_sections": [],
      "authorship_tag": "ABX9TyP9dJb7k/k+/6cuR19TfYIL",
      "include_colab_link": true
    },
    "kernelspec": {
      "name": "python3",
      "display_name": "Python 3"
    }
  },
  "cells": [
    {
      "cell_type": "markdown",
      "metadata": {
        "id": "view-in-github",
        "colab_type": "text"
      },
      "source": [
        "<a href=\"https://colab.research.google.com/github/rishi15-t/Bio-Bert-Emebddings/blob/master/vectorized.ipynb\" target=\"_parent\"><img src=\"https://colab.research.google.com/assets/colab-badge.svg\" alt=\"Open In Colab\"/></a>"
      ]
    },
    {
      "cell_type": "code",
      "metadata": {
        "id": "uUdDyN_NEp_u",
        "colab_type": "code",
        "colab": {}
      },
      "source": [
        "#generating random list of tuples containg triples\n",
        "import random\n",
        "l = [(random.randrange(0, 10), random.randrange(10, 20),random.randrange(0, 10)) for i in range(10)]"
      ],
      "execution_count": 0,
      "outputs": []
    },
    {
      "cell_type": "code",
      "metadata": {
        "id": "pWiWUgQD743Q",
        "colab_type": "code",
        "colab": {
          "base_uri": "https://localhost:8080/",
          "height": 194
        },
        "outputId": "afec08cf-a581-4357-b211-d9c0d096e8d4"
      },
      "source": [
        "l"
      ],
      "execution_count": 9,
      "outputs": [
        {
          "output_type": "execute_result",
          "data": {
            "text/plain": [
              "[(3, 17, 6),\n",
              " (6, 13, 0),\n",
              " (1, 13, 0),\n",
              " (1, 14, 5),\n",
              " (3, 15, 5),\n",
              " (1, 18, 4),\n",
              " (8, 17, 6),\n",
              " (2, 14, 1),\n",
              " (1, 19, 4),\n",
              " (3, 17, 1)]"
            ]
          },
          "metadata": {
            "tags": []
          },
          "execution_count": 9
        }
      ]
    },
    {
      "cell_type": "code",
      "metadata": {
        "id": "KfngDif-E09w",
        "colab_type": "code",
        "colab": {}
      },
      "source": [
        "#generating random list of tuples containg triples\n",
        "r = [(random.randrange(0, 10), random.randrange(10, 20),random.randrange(0, 10)) for i in range(10)]"
      ],
      "execution_count": 0,
      "outputs": []
    },
    {
      "cell_type": "code",
      "metadata": {
        "id": "RE9JtCBS76BD",
        "colab_type": "code",
        "colab": {
          "base_uri": "https://localhost:8080/",
          "height": 194
        },
        "outputId": "55ba22e3-5bd2-4ce7-8585-738cd5d62320"
      },
      "source": [
        "r"
      ],
      "execution_count": 13,
      "outputs": [
        {
          "output_type": "execute_result",
          "data": {
            "text/plain": [
              "[(4, 17, 1),\n",
              " (0, 13, 8),\n",
              " (4, 14, 8),\n",
              " (8, 17, 6),\n",
              " (4, 18, 0),\n",
              " (5, 17, 1),\n",
              " (0, 17, 4),\n",
              " (5, 17, 9),\n",
              " (6, 19, 5),\n",
              " (2, 16, 0)]"
            ]
          },
          "metadata": {
            "tags": []
          },
          "execution_count": 13
        }
      ]
    },
    {
      "cell_type": "code",
      "metadata": {
        "id": "nQDqt9trE5Zf",
        "colab_type": "code",
        "colab": {}
      },
      "source": [
        "#finding the common triples between the two lists of tuples using set intersection\n",
        "q = set(l).intersection(r)"
      ],
      "execution_count": 0,
      "outputs": []
    },
    {
      "cell_type": "code",
      "metadata": {
        "id": "uNbrgT2DFgx0",
        "colab_type": "code",
        "outputId": "7e1095a9-1fdd-48aa-a5e5-c3fb283a21cc",
        "colab": {
          "base_uri": "https://localhost:8080/",
          "height": 34
        }
      },
      "source": [
        "q"
      ],
      "execution_count": 12,
      "outputs": [
        {
          "output_type": "execute_result",
          "data": {
            "text/plain": [
              "{(8, 17, 6)}"
            ]
          },
          "metadata": {
            "tags": []
          },
          "execution_count": 12
        }
      ]
    },
    {
      "cell_type": "code",
      "metadata": {
        "id": "FuYfxCKikn2X",
        "colab_type": "code",
        "colab": {
          "base_uri": "https://localhost:8080/",
          "height": 34
        },
        "outputId": "bc0739f7-2030-4c3e-d8ec-eabc4876585b"
      },
      "source": [
        "# finding out the most occured relation between the entites in list \"r\" (In this case I got 17 as the most common relation)\n",
        "from collections import Counter\n",
        "a = Counter(elem[1] for elem in r)\n",
        "most_common = a.most_common(1)[-1][0] # o/p => 17\n",
        "\n",
        "#using the above most common relation from list \"r\" to find the triples having the same relation in list \"l\"\n",
        "filtered_entitties = list(filter(lambda x:most_common in x, l))\n",
        "print(filtered_entitties)"
      ],
      "execution_count": 51,
      "outputs": [
        {
          "output_type": "stream",
          "text": [
            "[(3, 17, 6), (8, 17, 6), (3, 17, 1)]\n"
          ],
          "name": "stdout"
        }
      ]
    }
  ]
}